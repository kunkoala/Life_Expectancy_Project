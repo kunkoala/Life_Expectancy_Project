{
 "cells": [
  {
   "cell_type": "code",
   "execution_count": 35,
   "id": "f66215e5-33ed-4634-aee2-59e0eee55758",
   "metadata": {},
   "outputs": [],
   "source": [
    "import pandas as pd\n",
    "import numpy as np\n",
    "import matplotlib.pyplot as plt\n",
    "import seaborn as sns"
   ]
  },
  {
   "cell_type": "markdown",
   "id": "72ffadb6-ef7c-43bd-b4f5-8f2b57bba37e",
   "metadata": {},
   "source": [
    "Here I use the dataset from OWID (Our World in Data) For the GDP per Country\n",
    "\n",
    "Docs: https://docs.owid.io/projects/etl/getting-started/consuming-datasets/"
   ]
  },
  {
   "cell_type": "code",
   "execution_count": 36,
   "id": "6f69bd84-cd7a-491f-b39c-7dcb97996990",
   "metadata": {},
   "outputs": [],
   "source": [
    "df = pd.read_csv('gdp_data.CSV')"
   ]
  },
  {
   "cell_type": "code",
   "execution_count": 37,
   "id": "e5ac6542-fb2c-4623-bc16-1b7c241e2caf",
   "metadata": {},
   "outputs": [
    {
     "data": {
      "text/html": [
       "<div>\n",
       "<style scoped>\n",
       "    .dataframe tbody tr th:only-of-type {\n",
       "        vertical-align: middle;\n",
       "    }\n",
       "\n",
       "    .dataframe tbody tr th {\n",
       "        vertical-align: top;\n",
       "    }\n",
       "\n",
       "    .dataframe thead th {\n",
       "        text-align: right;\n",
       "    }\n",
       "</style>\n",
       "<table border=\"1\" class=\"dataframe\">\n",
       "  <thead>\n",
       "    <tr style=\"text-align: right;\">\n",
       "      <th></th>\n",
       "      <th>countrycode</th>\n",
       "      <th>country</th>\n",
       "      <th>year</th>\n",
       "      <th>gdppc</th>\n",
       "      <th>pop</th>\n",
       "    </tr>\n",
       "  </thead>\n",
       "  <tbody>\n",
       "    <tr>\n",
       "      <th>0</th>\n",
       "      <td>AFG</td>\n",
       "      <td>Afghanistan</td>\n",
       "      <td>1820</td>\n",
       "      <td>NaN</td>\n",
       "      <td>3,280</td>\n",
       "    </tr>\n",
       "    <tr>\n",
       "      <th>1</th>\n",
       "      <td>AFG</td>\n",
       "      <td>Afghanistan</td>\n",
       "      <td>1870</td>\n",
       "      <td>NaN</td>\n",
       "      <td>4,207</td>\n",
       "    </tr>\n",
       "    <tr>\n",
       "      <th>2</th>\n",
       "      <td>AFG</td>\n",
       "      <td>Afghanistan</td>\n",
       "      <td>1913</td>\n",
       "      <td>NaN</td>\n",
       "      <td>5,730</td>\n",
       "    </tr>\n",
       "    <tr>\n",
       "      <th>3</th>\n",
       "      <td>AFG</td>\n",
       "      <td>Afghanistan</td>\n",
       "      <td>1950</td>\n",
       "      <td>1,156</td>\n",
       "      <td>8,150</td>\n",
       "    </tr>\n",
       "    <tr>\n",
       "      <th>4</th>\n",
       "      <td>AFG</td>\n",
       "      <td>Afghanistan</td>\n",
       "      <td>1951</td>\n",
       "      <td>1,170</td>\n",
       "      <td>8,284</td>\n",
       "    </tr>\n",
       "  </tbody>\n",
       "</table>\n",
       "</div>"
      ],
      "text/plain": [
       "  countrycode      country  year  gdppc    pop\n",
       "0         AFG  Afghanistan  1820    NaN  3,280\n",
       "1         AFG  Afghanistan  1870    NaN  4,207\n",
       "2         AFG  Afghanistan  1913    NaN  5,730\n",
       "3         AFG  Afghanistan  1950  1,156  8,150\n",
       "4         AFG  Afghanistan  1951  1,170  8,284"
      ]
     },
     "execution_count": 37,
     "metadata": {},
     "output_type": "execute_result"
    }
   ],
   "source": [
    "df.head()"
   ]
  },
  {
   "cell_type": "code",
   "execution_count": 38,
   "id": "946a7323-d4c7-4019-bcf7-3e5e4ea2070a",
   "metadata": {},
   "outputs": [
    {
     "name": "stdout",
     "output_type": "stream",
     "text": [
      "<class 'pandas.core.frame.DataFrame'>\n",
      "RangeIndex: 21682 entries, 0 to 21681\n",
      "Data columns (total 5 columns):\n",
      " #   Column       Non-Null Count  Dtype \n",
      "---  ------       --------------  ----- \n",
      " 0   countrycode  21682 non-null  object\n",
      " 1   country      21682 non-null  object\n",
      " 2   year         21682 non-null  int64 \n",
      " 3   gdppc        19706 non-null  object\n",
      " 4   pop          17199 non-null  object\n",
      "dtypes: int64(1), object(4)\n",
      "memory usage: 847.1+ KB\n"
     ]
    }
   ],
   "source": [
    "df.info()"
   ]
  },
  {
   "cell_type": "code",
   "execution_count": 39,
   "id": "307d2b53-4446-4138-9f81-168ef9ec3344",
   "metadata": {},
   "outputs": [],
   "source": [
    "df = df.loc[df['year'] >= 1950]"
   ]
  },
  {
   "cell_type": "code",
   "execution_count": 40,
   "id": "a427eb8f-1b5f-460f-9677-6f69ebd99161",
   "metadata": {},
   "outputs": [
    {
     "data": {
      "text/html": [
       "<div>\n",
       "<style scoped>\n",
       "    .dataframe tbody tr th:only-of-type {\n",
       "        vertical-align: middle;\n",
       "    }\n",
       "\n",
       "    .dataframe tbody tr th {\n",
       "        vertical-align: top;\n",
       "    }\n",
       "\n",
       "    .dataframe thead th {\n",
       "        text-align: right;\n",
       "    }\n",
       "</style>\n",
       "<table border=\"1\" class=\"dataframe\">\n",
       "  <thead>\n",
       "    <tr style=\"text-align: right;\">\n",
       "      <th></th>\n",
       "      <th>countrycode</th>\n",
       "      <th>country</th>\n",
       "      <th>year</th>\n",
       "      <th>gdppc</th>\n",
       "      <th>pop</th>\n",
       "    </tr>\n",
       "  </thead>\n",
       "  <tbody>\n",
       "    <tr>\n",
       "      <th>3</th>\n",
       "      <td>AFG</td>\n",
       "      <td>Afghanistan</td>\n",
       "      <td>1950</td>\n",
       "      <td>1,156</td>\n",
       "      <td>8,150</td>\n",
       "    </tr>\n",
       "    <tr>\n",
       "      <th>4</th>\n",
       "      <td>AFG</td>\n",
       "      <td>Afghanistan</td>\n",
       "      <td>1951</td>\n",
       "      <td>1,170</td>\n",
       "      <td>8,284</td>\n",
       "    </tr>\n",
       "    <tr>\n",
       "      <th>5</th>\n",
       "      <td>AFG</td>\n",
       "      <td>Afghanistan</td>\n",
       "      <td>1952</td>\n",
       "      <td>1,189</td>\n",
       "      <td>8,425</td>\n",
       "    </tr>\n",
       "    <tr>\n",
       "      <th>6</th>\n",
       "      <td>AFG</td>\n",
       "      <td>Afghanistan</td>\n",
       "      <td>1953</td>\n",
       "      <td>1,240</td>\n",
       "      <td>8,573</td>\n",
       "    </tr>\n",
       "    <tr>\n",
       "      <th>7</th>\n",
       "      <td>AFG</td>\n",
       "      <td>Afghanistan</td>\n",
       "      <td>1954</td>\n",
       "      <td>1,245</td>\n",
       "      <td>8,728</td>\n",
       "    </tr>\n",
       "    <tr>\n",
       "      <th>...</th>\n",
       "      <td>...</td>\n",
       "      <td>...</td>\n",
       "      <td>...</td>\n",
       "      <td>...</td>\n",
       "      <td>...</td>\n",
       "    </tr>\n",
       "    <tr>\n",
       "      <th>21677</th>\n",
       "      <td>ZWE</td>\n",
       "      <td>Zimbabwe</td>\n",
       "      <td>2014</td>\n",
       "      <td>1,594</td>\n",
       "      <td>13,314</td>\n",
       "    </tr>\n",
       "    <tr>\n",
       "      <th>21678</th>\n",
       "      <td>ZWE</td>\n",
       "      <td>Zimbabwe</td>\n",
       "      <td>2015</td>\n",
       "      <td>1,560</td>\n",
       "      <td>13,479</td>\n",
       "    </tr>\n",
       "    <tr>\n",
       "      <th>21679</th>\n",
       "      <td>ZWE</td>\n",
       "      <td>Zimbabwe</td>\n",
       "      <td>2016</td>\n",
       "      <td>1,534</td>\n",
       "      <td>13,665</td>\n",
       "    </tr>\n",
       "    <tr>\n",
       "      <th>21680</th>\n",
       "      <td>ZWE</td>\n",
       "      <td>Zimbabwe</td>\n",
       "      <td>2017</td>\n",
       "      <td>1,582</td>\n",
       "      <td>13,870</td>\n",
       "    </tr>\n",
       "    <tr>\n",
       "      <th>21681</th>\n",
       "      <td>ZWE</td>\n",
       "      <td>Zimbabwe</td>\n",
       "      <td>2018</td>\n",
       "      <td>1,611</td>\n",
       "      <td>14,097</td>\n",
       "    </tr>\n",
       "  </tbody>\n",
       "</table>\n",
       "<p>11661 rows × 5 columns</p>\n",
       "</div>"
      ],
      "text/plain": [
       "      countrycode      country  year  gdppc     pop\n",
       "3             AFG  Afghanistan  1950  1,156   8,150\n",
       "4             AFG  Afghanistan  1951  1,170   8,284\n",
       "5             AFG  Afghanistan  1952  1,189   8,425\n",
       "6             AFG  Afghanistan  1953  1,240   8,573\n",
       "7             AFG  Afghanistan  1954  1,245   8,728\n",
       "...           ...          ...   ...    ...     ...\n",
       "21677         ZWE     Zimbabwe  2014  1,594  13,314\n",
       "21678         ZWE     Zimbabwe  2015  1,560  13,479\n",
       "21679         ZWE     Zimbabwe  2016  1,534  13,665\n",
       "21680         ZWE     Zimbabwe  2017  1,582  13,870\n",
       "21681         ZWE     Zimbabwe  2018  1,611  14,097\n",
       "\n",
       "[11661 rows x 5 columns]"
      ]
     },
     "execution_count": 40,
     "metadata": {},
     "output_type": "execute_result"
    }
   ],
   "source": [
    "df"
   ]
  },
  {
   "cell_type": "code",
   "execution_count": 41,
   "id": "4db41867-a97f-4be1-9dbf-763a38615494",
   "metadata": {},
   "outputs": [
    {
     "data": {
      "text/plain": [
       "countrycode      0\n",
       "country          0\n",
       "year             0\n",
       "gdppc          523\n",
       "pop              0\n",
       "dtype: int64"
      ]
     },
     "execution_count": 41,
     "metadata": {},
     "output_type": "execute_result"
    }
   ],
   "source": [
    "# check sum of na\n",
    "df.isna().sum()"
   ]
  },
  {
   "cell_type": "code",
   "execution_count": 42,
   "id": "8104eef7-b79d-4299-9818-6473a03248d2",
   "metadata": {},
   "outputs": [
    {
     "data": {
      "text/plain": [
       "countrycode    0\n",
       "country        0\n",
       "year           0\n",
       "gdppc          0\n",
       "pop            0\n",
       "dtype: int64"
      ]
     },
     "execution_count": 42,
     "metadata": {},
     "output_type": "execute_result"
    }
   ],
   "source": [
    "df = df.dropna().reset_index().drop('index', axis=1)\n",
    "df.isna().sum()"
   ]
  },
  {
   "cell_type": "code",
   "execution_count": 43,
   "id": "570b7587-690b-446b-88b6-d2479346b08a",
   "metadata": {},
   "outputs": [
    {
     "data": {
      "text/html": [
       "<div>\n",
       "<style scoped>\n",
       "    .dataframe tbody tr th:only-of-type {\n",
       "        vertical-align: middle;\n",
       "    }\n",
       "\n",
       "    .dataframe tbody tr th {\n",
       "        vertical-align: top;\n",
       "    }\n",
       "\n",
       "    .dataframe thead th {\n",
       "        text-align: right;\n",
       "    }\n",
       "</style>\n",
       "<table border=\"1\" class=\"dataframe\">\n",
       "  <thead>\n",
       "    <tr style=\"text-align: right;\">\n",
       "      <th></th>\n",
       "      <th>countrycode</th>\n",
       "      <th>country</th>\n",
       "      <th>year</th>\n",
       "      <th>gdppc</th>\n",
       "      <th>pop</th>\n",
       "    </tr>\n",
       "  </thead>\n",
       "  <tbody>\n",
       "    <tr>\n",
       "      <th>11133</th>\n",
       "      <td>ZWE</td>\n",
       "      <td>Zimbabwe</td>\n",
       "      <td>2014</td>\n",
       "      <td>1,594</td>\n",
       "      <td>13,314</td>\n",
       "    </tr>\n",
       "    <tr>\n",
       "      <th>11134</th>\n",
       "      <td>ZWE</td>\n",
       "      <td>Zimbabwe</td>\n",
       "      <td>2015</td>\n",
       "      <td>1,560</td>\n",
       "      <td>13,479</td>\n",
       "    </tr>\n",
       "    <tr>\n",
       "      <th>11135</th>\n",
       "      <td>ZWE</td>\n",
       "      <td>Zimbabwe</td>\n",
       "      <td>2016</td>\n",
       "      <td>1,534</td>\n",
       "      <td>13,665</td>\n",
       "    </tr>\n",
       "    <tr>\n",
       "      <th>11136</th>\n",
       "      <td>ZWE</td>\n",
       "      <td>Zimbabwe</td>\n",
       "      <td>2017</td>\n",
       "      <td>1,582</td>\n",
       "      <td>13,870</td>\n",
       "    </tr>\n",
       "    <tr>\n",
       "      <th>11137</th>\n",
       "      <td>ZWE</td>\n",
       "      <td>Zimbabwe</td>\n",
       "      <td>2018</td>\n",
       "      <td>1,611</td>\n",
       "      <td>14,097</td>\n",
       "    </tr>\n",
       "  </tbody>\n",
       "</table>\n",
       "</div>"
      ],
      "text/plain": [
       "      countrycode   country  year  gdppc     pop\n",
       "11133         ZWE  Zimbabwe  2014  1,594  13,314\n",
       "11134         ZWE  Zimbabwe  2015  1,560  13,479\n",
       "11135         ZWE  Zimbabwe  2016  1,534  13,665\n",
       "11136         ZWE  Zimbabwe  2017  1,582  13,870\n",
       "11137         ZWE  Zimbabwe  2018  1,611  14,097"
      ]
     },
     "execution_count": 43,
     "metadata": {},
     "output_type": "execute_result"
    }
   ],
   "source": [
    "df.tail()"
   ]
  },
  {
   "cell_type": "code",
   "execution_count": 44,
   "id": "66c9000a-b076-4032-b30e-1e8f428f29c7",
   "metadata": {},
   "outputs": [],
   "source": [
    "df['gdppc'] = df['gdppc'].apply(lambda x: x.replace(',','')).astype(float)\n",
    "df['pop'] = df['pop'].apply(lambda x: x.replace(',','')).astype(float)"
   ]
  },
  {
   "cell_type": "code",
   "execution_count": 45,
   "id": "f341142e-9b22-45f1-900e-87f4198f2e7d",
   "metadata": {},
   "outputs": [
    {
     "name": "stdout",
     "output_type": "stream",
     "text": [
      "<class 'pandas.core.frame.DataFrame'>\n",
      "RangeIndex: 11138 entries, 0 to 11137\n",
      "Data columns (total 5 columns):\n",
      " #   Column       Non-Null Count  Dtype  \n",
      "---  ------       --------------  -----  \n",
      " 0   countrycode  11138 non-null  object \n",
      " 1   country      11138 non-null  object \n",
      " 2   year         11138 non-null  int64  \n",
      " 3   gdppc        11138 non-null  float64\n",
      " 4   pop          11138 non-null  float64\n",
      "dtypes: float64(2), int64(1), object(2)\n",
      "memory usage: 435.2+ KB\n"
     ]
    }
   ],
   "source": [
    "df.info()"
   ]
  },
  {
   "cell_type": "code",
   "execution_count": 46,
   "id": "89ecc28f-ec8a-4201-a5e1-101c3bde1d00",
   "metadata": {},
   "outputs": [
    {
     "data": {
      "text/plain": [
       "2018    169\n",
       "2004    169\n",
       "1990    169\n",
       "1991    169\n",
       "1992    169\n",
       "       ... \n",
       "1955    151\n",
       "1954    151\n",
       "1953    151\n",
       "1951    145\n",
       "1950    145\n",
       "Name: year, Length: 69, dtype: int64"
      ]
     },
     "execution_count": 46,
     "metadata": {},
     "output_type": "execute_result"
    }
   ],
   "source": [
    "df['year'].value_counts()"
   ]
  },
  {
   "cell_type": "code",
   "execution_count": 53,
   "id": "252f5247-fca0-4d37-94be-df4b7bea4252",
   "metadata": {},
   "outputs": [],
   "source": [
    "df = df.rename(columns={'countrycode':'Country Code', 'country':'Country', 'year':'Year'})"
   ]
  },
  {
   "cell_type": "code",
   "execution_count": 54,
   "id": "1ee1e534-971a-4fe6-8881-df3bb2ab6ab8",
   "metadata": {},
   "outputs": [
    {
     "data": {
      "text/html": [
       "<div>\n",
       "<style scoped>\n",
       "    .dataframe tbody tr th:only-of-type {\n",
       "        vertical-align: middle;\n",
       "    }\n",
       "\n",
       "    .dataframe tbody tr th {\n",
       "        vertical-align: top;\n",
       "    }\n",
       "\n",
       "    .dataframe thead th {\n",
       "        text-align: right;\n",
       "    }\n",
       "</style>\n",
       "<table border=\"1\" class=\"dataframe\">\n",
       "  <thead>\n",
       "    <tr style=\"text-align: right;\">\n",
       "      <th></th>\n",
       "      <th>Country Code</th>\n",
       "      <th>Country</th>\n",
       "      <th>Year</th>\n",
       "      <th>gdppc</th>\n",
       "      <th>pop</th>\n",
       "    </tr>\n",
       "  </thead>\n",
       "  <tbody>\n",
       "    <tr>\n",
       "      <th>0</th>\n",
       "      <td>AFG</td>\n",
       "      <td>Afghanistan</td>\n",
       "      <td>1950</td>\n",
       "      <td>1156.0</td>\n",
       "      <td>8150.0</td>\n",
       "    </tr>\n",
       "    <tr>\n",
       "      <th>1</th>\n",
       "      <td>AFG</td>\n",
       "      <td>Afghanistan</td>\n",
       "      <td>1951</td>\n",
       "      <td>1170.0</td>\n",
       "      <td>8284.0</td>\n",
       "    </tr>\n",
       "    <tr>\n",
       "      <th>2</th>\n",
       "      <td>AFG</td>\n",
       "      <td>Afghanistan</td>\n",
       "      <td>1952</td>\n",
       "      <td>1189.0</td>\n",
       "      <td>8425.0</td>\n",
       "    </tr>\n",
       "    <tr>\n",
       "      <th>3</th>\n",
       "      <td>AFG</td>\n",
       "      <td>Afghanistan</td>\n",
       "      <td>1953</td>\n",
       "      <td>1240.0</td>\n",
       "      <td>8573.0</td>\n",
       "    </tr>\n",
       "    <tr>\n",
       "      <th>4</th>\n",
       "      <td>AFG</td>\n",
       "      <td>Afghanistan</td>\n",
       "      <td>1954</td>\n",
       "      <td>1245.0</td>\n",
       "      <td>8728.0</td>\n",
       "    </tr>\n",
       "    <tr>\n",
       "      <th>...</th>\n",
       "      <td>...</td>\n",
       "      <td>...</td>\n",
       "      <td>...</td>\n",
       "      <td>...</td>\n",
       "      <td>...</td>\n",
       "    </tr>\n",
       "    <tr>\n",
       "      <th>11133</th>\n",
       "      <td>ZWE</td>\n",
       "      <td>Zimbabwe</td>\n",
       "      <td>2014</td>\n",
       "      <td>1594.0</td>\n",
       "      <td>13314.0</td>\n",
       "    </tr>\n",
       "    <tr>\n",
       "      <th>11134</th>\n",
       "      <td>ZWE</td>\n",
       "      <td>Zimbabwe</td>\n",
       "      <td>2015</td>\n",
       "      <td>1560.0</td>\n",
       "      <td>13479.0</td>\n",
       "    </tr>\n",
       "    <tr>\n",
       "      <th>11135</th>\n",
       "      <td>ZWE</td>\n",
       "      <td>Zimbabwe</td>\n",
       "      <td>2016</td>\n",
       "      <td>1534.0</td>\n",
       "      <td>13665.0</td>\n",
       "    </tr>\n",
       "    <tr>\n",
       "      <th>11136</th>\n",
       "      <td>ZWE</td>\n",
       "      <td>Zimbabwe</td>\n",
       "      <td>2017</td>\n",
       "      <td>1582.0</td>\n",
       "      <td>13870.0</td>\n",
       "    </tr>\n",
       "    <tr>\n",
       "      <th>11137</th>\n",
       "      <td>ZWE</td>\n",
       "      <td>Zimbabwe</td>\n",
       "      <td>2018</td>\n",
       "      <td>1611.0</td>\n",
       "      <td>14097.0</td>\n",
       "    </tr>\n",
       "  </tbody>\n",
       "</table>\n",
       "<p>11138 rows × 5 columns</p>\n",
       "</div>"
      ],
      "text/plain": [
       "      Country Code      Country  Year   gdppc      pop\n",
       "0              AFG  Afghanistan  1950  1156.0   8150.0\n",
       "1              AFG  Afghanistan  1951  1170.0   8284.0\n",
       "2              AFG  Afghanistan  1952  1189.0   8425.0\n",
       "3              AFG  Afghanistan  1953  1240.0   8573.0\n",
       "4              AFG  Afghanistan  1954  1245.0   8728.0\n",
       "...            ...          ...   ...     ...      ...\n",
       "11133          ZWE     Zimbabwe  2014  1594.0  13314.0\n",
       "11134          ZWE     Zimbabwe  2015  1560.0  13479.0\n",
       "11135          ZWE     Zimbabwe  2016  1534.0  13665.0\n",
       "11136          ZWE     Zimbabwe  2017  1582.0  13870.0\n",
       "11137          ZWE     Zimbabwe  2018  1611.0  14097.0\n",
       "\n",
       "[11138 rows x 5 columns]"
      ]
     },
     "execution_count": 54,
     "metadata": {},
     "output_type": "execute_result"
    }
   ],
   "source": [
    "df"
   ]
  },
  {
   "cell_type": "code",
   "execution_count": 55,
   "id": "0dad8cdd-794e-400b-812e-c51605297137",
   "metadata": {},
   "outputs": [],
   "source": [
    "df.to_csv('gdp_cleaned_dataset')"
   ]
  },
  {
   "cell_type": "code",
   "execution_count": null,
   "id": "a53771df-45dc-4da1-b30d-37259ffe5731",
   "metadata": {},
   "outputs": [],
   "source": []
  }
 ],
 "metadata": {
  "kernelspec": {
   "display_name": "Python 3 (ipykernel)",
   "language": "python",
   "name": "python3"
  },
  "language_info": {
   "codemirror_mode": {
    "name": "ipython",
    "version": 3
   },
   "file_extension": ".py",
   "mimetype": "text/x-python",
   "name": "python",
   "nbconvert_exporter": "python",
   "pygments_lexer": "ipython3",
   "version": "3.11.7"
  }
 },
 "nbformat": 4,
 "nbformat_minor": 5
}
